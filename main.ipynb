{
 "cells": [
  {
   "cell_type": "markdown",
   "metadata": {},
   "source": [
    "Python-библиотека `googlesearch`: Google-поиск прямо из питона 🐍\n",
    "\n",
    "🔎 googlesearch — это простая в использовании библиотека для Python, которая позволяет отправлять запросы в Google и получать ссылки на результаты поиска прямо из вашего кода. Она предоставляет гибкий и мощный интерфейс, который можно настроить для различных задач поиска.\n",
    "\n",
    "Основной функционал\n",
    "\n",
    "Основной метод библиотеки — это функция search(), которая возвращает результаты поиска в виде генератора, содержащего объекты SearchResult или URL-ссылки в зависимости от параметров.\n",
    "\n",
    "Аргументы функции:\n",
    "- term — строка с запросом, которую вы хотите найти в Google.\n",
    "- num_results — количество результатов, которые нужно вернуть (по умолчанию 10).\n",
    "- lang — язык результатов поиска (по умолчанию \"en\").\n",
    "- proxy — возможность использования прокси для запросов (по умолчанию None).\n",
    "- advanced — расширенный режим поиска, возвращает объекты с более детализированной информацией, такими как заголовок и описание страницы (по умолчанию False).\n",
    "- sleep_interval — время ожидания между запросами в секундах (по умолчанию 0).\n",
    "- timeout — максимальное время ожидания ответа от Google (по умолчанию 5 секунд).\n",
    "- safe — настройка безопасного поиска: \"off\" для отключения, \"active\" для фильтрации контента для взрослых (по умолчанию \"active\").\n",
    "- ssl_verify — возможность включить или отключить проверку SSL-сертификатов (по умолчанию None).\n",
    "- region — регион для таргетирования поиска (по умолчанию None).\n",
    "\n",
    "Примеры использования\n",
    "\n",
    "Этот код отправляет запрос \"marselle.naz\" и возвращает первые пять ссылок на результаты поиска.\n",
    "\n",
    "Простой поиск:"
   ]
  },
  {
   "cell_type": "code",
   "execution_count": 5,
   "metadata": {},
   "outputs": [
    {
     "name": "stdout",
     "output_type": "stream",
     "text": [
      "https://kz.linkedin.com/in/marselle-naz-143a55263\n",
      "https://www.instagram.com/marselle.naz/\n",
      "https://github.com/marse11e\n",
      "https://m.facebook.com/people/Marselle-Naz/100042054482823/\n",
      "https://www.codewars.com/users/marselle.naz\n"
     ]
    }
   ],
   "source": [
    "from googlesearch import search\n",
    "\n",
    "query = \"marselle.naz\"\n",
    "for result in search(query, num_results=5):\n",
    "    print(result)\n"
   ]
  },
  {
   "cell_type": "code",
   "execution_count": 6,
   "metadata": {},
   "outputs": [
    {
     "name": "stdout",
     "output_type": "stream",
     "text": [
      "Marselle Naz - Software Engineer - ITC Soft https://kz.linkedin.com/in/marselle-naz-143a55263\n",
      "Marselle Naz 360° marse11e https://github.com/marse11e\n",
      "Marselle Naz 360 https://www.instagram.com/marselle.naz/\n"
     ]
    }
   ],
   "source": [
    "# Расширенный поиск с дополнительными параметрами:\n",
    "for result in search(\"marselle.naz\", num_results=3, lang='ru', safe='off', region='RU', advanced=True):\n",
    "    print(result.title, result.url)"
   ]
  },
  {
   "cell_type": "markdown",
   "metadata": {},
   "source": [
    "Поиск по русскоязычным ресурсам с отключенным безопасным поиском и указанием региона RU. В данном случае возвращаются не только ссылки, но и заголовки страниц.\n",
    "\n",
    "В общем, googlesearch это это мощный инструмент, который позволяет интегрировать Google-поиск в Python-приложения, делая его отличным для автоматизации и поиска данных."
   ]
  }
 ],
 "metadata": {
  "kernelspec": {
   "display_name": "Python 3",
   "language": "python",
   "name": "python3"
  },
  "language_info": {
   "codemirror_mode": {
    "name": "ipython",
    "version": 3
   },
   "file_extension": ".py",
   "mimetype": "text/x-python",
   "name": "python",
   "nbconvert_exporter": "python",
   "pygments_lexer": "ipython3",
   "version": "3.12.6"
  }
 },
 "nbformat": 4,
 "nbformat_minor": 2
}
